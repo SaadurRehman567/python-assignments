{
 "cells": [
  {
   "cell_type": "code",
   "execution_count": 1,
   "metadata": {},
   "outputs": [
    {
     "name": "stdout",
     "output_type": "stream",
     "text": [
      "first_name : saad\n",
      "last_name : saleem\n",
      "age : 22\n",
      "city : karachi\n",
      "\n",
      " \n",
      "\n",
      "first_name : saad\n",
      "last_name : saleem\n",
      "age : 22\n",
      "city : karachi\n",
      "qualification  : b.sc(hons)\n",
      "\n",
      " \n",
      "\n",
      "first_name : saad\n",
      "last_name : saleem\n",
      "age : 22\n",
      "city : karachi\n",
      "qualification  : high academic level \n",
      "\n",
      " \n",
      "\n",
      "first_name : saad\n",
      "last_name : saleem\n",
      "age : 22\n",
      "city : karachi\n"
     ]
    }
   ],
   "source": [
    "#Question1:\n",
    "#Use a dictionary to store information about a person you know. Store their first name, last name, age,\n",
    "#and the city in which they live. You should have keys such as first_name, last_name, age, and city. \n",
    "#Print each piece of information stored in your dictionary. Add a new key value pair about qualification \n",
    "#then update the qualification value to high academic level then delete it.\n",
    "\n",
    "information={\n",
    "    \"first_name\":\"saad\",\n",
    "    \"last_name\":\"saleem\",\n",
    "    \"age\":\"22\",\n",
    "    \"city\":\"karachi\",\n",
    "}\n",
    "for key,values in information.items():\n",
    "    print(key,\":\",values)\n",
    "print('\\n','\\n')\n",
    "    \n",
    "information[\"qualification \"]=\"b.sc(hons)\"\n",
    "for key,values in information.items():\n",
    "    print(key,\":\",values)\n",
    "print('\\n','\\n')\n",
    "    \n",
    "\n",
    "information[\"qualification \"]=\"high academic level \"\n",
    "for key,values in information.items():\n",
    "    print(key,\":\",values)\n",
    "print('\\n','\\n')   \n",
    "    \n",
    "del information[\"qualification \"]\n",
    "for key,values in information.items():\n",
    "    print(key,\":\",values)"
   ]
  },
  {
   "cell_type": "code",
   "execution_count": 2,
   "metadata": {},
   "outputs": [
    {
     "name": "stdout",
     "output_type": "stream",
     "text": [
      "\n",
      " karachi \n",
      "\n",
      "country:pakistan\n",
      "population:23.5 million people\n",
      "fact: Karachi is the sixth most populous city in the world\n",
      "\n",
      " peshawar \n",
      "\n",
      "country:pakistan\n",
      "population:1.9 million\n",
      "fact:the sixth-largest of Pakistan\n",
      "\n",
      " islamabad \n",
      "\n",
      "country:pakistan\n",
      "population:over 1 million people\n",
      "fact:Islamabad is the capital of Pakistan\n"
     ]
    }
   ],
   "source": [
    "#Question2:\n",
    "#Make a dictionary called cities. Use the names of three cities as keys in your dictionary. \n",
    "#Create a dictionary of information about each city and include the country that the city is in, \n",
    "#its approximate population, and one fact about that city. The keys for each city’s dictionary should be \n",
    "#something like country, population, and fact. Print the name of each city and all of the information you have \n",
    "#stored about it.\n",
    "\n",
    "cities={\n",
    "    \"karachi\":{\"country\":\"pakistan\",\n",
    "            \"population\":\"23.5 million people\",\n",
    "            \"fact\":\" Karachi is the sixth most populous city in the world\",\n",
    "           },\n",
    "    \n",
    "     \"peshawar\":{\"country\":\"pakistan\",\n",
    "            \"population\":\"1.9 million\",\n",
    "            \"fact\":\"the sixth-largest of Pakistan\",\n",
    "           },\n",
    "    \n",
    "     \"islamabad\":{\"country\":\"pakistan\",\n",
    "            \"population\":\"over 1 million people\",\n",
    "            \"fact\":\"Islamabad is the capital of Pakistan\",\n",
    "           },\n",
    "}\n",
    "for key,values in cities.items():\n",
    "    print(\"\\n\",key,\"\\n\")\n",
    "    for cric in values:\n",
    "        print(cric+\":\"+str(values[cric]))\n",
    "   \n"
   ]
  },
  {
   "cell_type": "code",
   "execution_count": 6,
   "metadata": {},
   "outputs": [
    {
     "name": "stdout",
     "output_type": "stream",
     "text": [
      "enter your age4\n",
      "$10\n",
      "enter your age4\n",
      "$10\n",
      "enter your age3\n",
      "$10\n",
      "enter your age3\n",
      "$10\n",
      "enter your age5\n",
      "$10\n"
     ]
    }
   ],
   "source": [
    "#Question3:\n",
    "#A movie theater charges different ticket prices depending on a person’s age. If a person is under the age of 3, \n",
    "#the ticket is free; if they are between 3 and 12, the ticket is $10; and if they are over age 12, the ticket is $15. \n",
    "#Write a loop in which you ask users their age, and then tell them the cost of their movie ticket.\n",
    "\n",
    "for b in range(5):\n",
    "    age=int(input(\"enter your age\"))\n",
    "    if age<3:\n",
    "        print(\"free\")\n",
    "    elif age>=3 and age<=12:\n",
    "        print(\"$10\")\n",
    "    elif age>12:\n",
    "        print(\"$15\")\n",
    "    \n",
    " #you must run this file 5 times to execute next file   \n",
    "    "
   ]
  },
  {
   "cell_type": "code",
   "execution_count": 7,
   "metadata": {},
   "outputs": [
    {
     "name": "stdout",
     "output_type": "stream",
     "text": [
      "one of my favourite book is Discrete Mathematics\n"
     ]
    }
   ],
   "source": [
    "#Question4:\n",
    "#Write a function called favorite_book() that accepts one parameter, title. The function should print a message, \n",
    "#such as One of my favorite books is Alice in Wonderland. Call the function, making sure to include a book title as an \n",
    "#argument in the function call.\n",
    "\n",
    "def favorite_book(title):\n",
    "    print('one of my favourite book is' +\" \"+ title)\n",
    "\n",
    "\n",
    "\n",
    "favorite_book(\"Discrete Mathematics\")\n"
   ]
  },
  {
   "cell_type": "code",
   "execution_count": 5,
   "metadata": {},
   "outputs": [
    {
     "name": "stdout",
     "output_type": "stream",
     "text": [
      "enter4\n",
      "your number is small\n",
      "enter8\n",
      "your number is small\n",
      "enter12\n",
      "your number is small\n"
     ]
    }
   ],
   "source": [
    "#Question5:\n",
    "#Guess the number game\n",
    "#Write a program which randomly generate a number between 1 to 30 and ask the user in input field to guess the\n",
    "#correct number. Give three chances to user guess the number and also give hint to user if hidden number is greater\n",
    "#or smaller than the number he given to input field.\n",
    "\n",
    "import random\n",
    "x=random.randint(1,31)\n",
    "for b in range(3):\n",
    "    y=int(input(\"enter\"))\n",
    "\n",
    "    if y<x:\n",
    "        print(\"your number is small\")\n",
    "    elif y>x:\n",
    "        print(\"your number is large\")\n",
    "    elif y==x:\n",
    "        print(\"you are correct\")\n"
   ]
  },
  {
   "cell_type": "code",
   "execution_count": null,
   "metadata": {},
   "outputs": [],
   "source": []
  }
 ],
 "metadata": {
  "kernelspec": {
   "display_name": "Python 3",
   "language": "python",
   "name": "python3"
  },
  "language_info": {
   "codemirror_mode": {
    "name": "ipython",
    "version": 3
   },
   "file_extension": ".py",
   "mimetype": "text/x-python",
   "name": "python",
   "nbconvert_exporter": "python",
   "pygments_lexer": "ipython3",
   "version": "3.7.4"
  }
 },
 "nbformat": 4,
 "nbformat_minor": 2
}
