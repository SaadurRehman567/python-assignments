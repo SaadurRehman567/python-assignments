{
 "cells": [
  {
   "cell_type": "code",
   "execution_count": 1,
   "metadata": {},
   "outputs": [
    {
     "name": "stdout",
     "output_type": "stream",
     "text": [
      "enter marks of physics out of 10077\n",
      "enter marks of maths out of 10066\n",
      "enter marks of chemistry out of 10088\n",
      "enter marks of biology out of 10056\n",
      "enter marks of english out of 10098\n",
      "77.0 %\n",
      "you secure A grade\n"
     ]
    }
   ],
   "source": [
    "#1. Make a calculator using Python with addition , subtraction , multiplication , division and power. \n",
    "a = int(input('enter marks of physics out of 100'));\n",
    "b = int(input('enter marks of maths out of 100'));\n",
    "c = int(input('enter marks of chemistry out of 100'));\n",
    "d = int(input('enter marks of biology out of 100'));\n",
    "e = int(input('enter marks of english out of 100'));\n",
    "t = ((a+b+c+d+e)/500)*100;\n",
    "print(t,'%')\n",
    "if (t>=80) & (t<100):\n",
    "    print('you secure A+ grade')\n",
    "elif (t>=70) & (t<79):\n",
    "    print('you secure A grade')\n",
    "elif (t>=60) & (t<69):\n",
    "    print('you secure b grade')\n",
    "elif (t>=50) & (t<49):\n",
    "    print('you secure c grade')\n",
    "else :\n",
    "    print('you are fail')\n"
   ]
  },
  {
   "cell_type": "code",
   "execution_count": 2,
   "metadata": {},
   "outputs": [
    {
     "name": "stdout",
     "output_type": "stream",
     "text": [
      "no integer\n"
     ]
    }
   ],
   "source": [
    "#2. Write a program to check if there is any numeric value in list using for loop \n",
    "a=['a','b','c']\n",
    "for i in a:\n",
    "    if i==int:\n",
    "        print(i)\n",
    "else:\n",
    "    print('no integer')"
   ]
  },
  {
   "cell_type": "code",
   "execution_count": 3,
   "metadata": {},
   "outputs": [
    {
     "name": "stdout",
     "output_type": "stream",
     "text": [
      "{'new': 10, 'age': 20}\n",
      "{'new': 10, 'age': 20, 'old': 30}\n"
     ]
    }
   ],
   "source": [
    "#3. Write a Python script to add a key to a dictionary  \n",
    "a = {'new':10, 'age':20}  \n",
    "print(a)  \n",
    "a.update({'old':30})  \n",
    "print(a)"
   ]
  },
  {
   "cell_type": "code",
   "execution_count": 7,
   "metadata": {},
   "outputs": [
    {
     "name": "stdout",
     "output_type": "stream",
     "text": [
      "540\n"
     ]
    }
   ],
   "source": [
    "#4. Write a Python program to sum all the numeric items in a dictionary  \n",
    "dictionary = {'date':93,'time':-23,'year':470}\n",
    "print(sum(dictionary.values()))"
   ]
  },
  {
   "cell_type": "code",
   "execution_count": 8,
   "metadata": {},
   "outputs": [
    {
     "data": {
      "text/plain": [
       "{1, 4, 5}"
      ]
     },
     "execution_count": 8,
     "metadata": {},
     "output_type": "execute_result"
    }
   ],
   "source": [
    "#5. Write a program to identify duplicate values from list  \n",
    "l = [1,2,3,4,4,5,5,6,1]\n",
    "set([x for x in l if l.count(x) > 1])"
   ]
  },
  {
   "cell_type": "code",
   "execution_count": 10,
   "metadata": {},
   "outputs": [
    {
     "name": "stdout",
     "output_type": "stream",
     "text": [
      "Key is present in the dictionary\n",
      "Key is not present in the dictionary\n"
     ]
    }
   ],
   "source": [
    "#6. Write a Python script to check if a given key already exists in a dictionary   \n",
    "d = {1: 10, 2: 20, 3: 30, 4: 40, 5: 50, 6: 60}\n",
    "def key_present(x):\n",
    "  if x in d:\n",
    "      print('Key is present in the dictionary')\n",
    "  else:\n",
    "      print('Key is not present in the dictionary')\n",
    "\n",
    "key_present(5)\n",
    "key_present(7)\n"
   ]
  },
  {
   "cell_type": "code",
   "execution_count": null,
   "metadata": {},
   "outputs": [],
   "source": []
  }
 ],
 "metadata": {
  "kernelspec": {
   "display_name": "Python 3",
   "language": "python",
   "name": "python3"
  },
  "language_info": {
   "codemirror_mode": {
    "name": "ipython",
    "version": 3
   },
   "file_extension": ".py",
   "mimetype": "text/x-python",
   "name": "python",
   "nbconvert_exporter": "python",
   "pygments_lexer": "ipython3",
   "version": "3.7.4"
  }
 },
 "nbformat": 4,
 "nbformat_minor": 2
}
