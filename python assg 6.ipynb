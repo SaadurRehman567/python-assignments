{
 "cells": [
  {
   "cell_type": "code",
   "execution_count": 1,
   "metadata": {},
   "outputs": [],
   "source": [
    "#Question 1:\n",
    "#Define Object Oriented Programming Language?\n",
    "\n",
    "#Object-oriented programming (OOP) refers to a type of computer programming (software design) in which\n",
    "# programmers define not only the data type of a data structure, but also the types of operations (functions)\n",
    "#that can be applied to the data structure."
   ]
  },
  {
   "cell_type": "code",
   "execution_count": 2,
   "metadata": {},
   "outputs": [],
   "source": [
    "#Question 2:\n",
    "#List down the Benefits of OOP?\n",
    "\n",
    "#1. It provides a clear modular structure for programs which makes it good for defining abstract datatypes\n",
    "#in which implementation details are hidden.\n",
    "\n",
    "#2.Objects can also be reused within an across applications.\n",
    "\n",
    "#3.The reuse of software also lowers the cost of development.\n",
    "\n",
    "#4.Reuse of code through inheritance. \n",
    "\n",
    "#5.Flexibility through polymorphism. \n",
    "\n",
    "#6.Effective problem solving."
   ]
  },
  {
   "cell_type": "code",
   "execution_count": 3,
   "metadata": {},
   "outputs": [],
   "source": [
    "#Question 3:\n",
    "#Differentiate between function and method?\n",
    "\n",
    "#A method in python is somewhat similar to a function, except it is associated with object/classes.\n",
    "#Methods in python are very similar to functions except for two major differences.\n",
    "#The method is implicitly used for an object for which it is called.\n",
    "#The method is accessible to data that is contained within the class\n",
    "\n"
   ]
  },
  {
   "cell_type": "code",
   "execution_count": 5,
   "metadata": {},
   "outputs": [],
   "source": [
    "#Question 4:\n",
    "#Define the following terms:\n",
    "\n",
    "#1. Class\n",
    "# It is a user defined data type, which holds its own data members and member functions,\n",
    "#which can be accessed and used by creating an instance of that class.\n",
    "#For Example: Consider the Class of Cars.\n",
    "\n",
    "\n",
    "#2. Object\n",
    "#Object-oriented programming, or OOP, is an approach to problem solving where all computations\n",
    "#are carried out using objects. Objects are the basic units of object-oriented programming.\n",
    "#A simple example of an object would be a person.\n",
    "\n",
    "\n",
    "#3. Attribute\n",
    "#In Object-oriented programming(OOP), classes and objects have attributes.\n",
    "#Attributes are data stored inside a class or instance and represent the state or quality of the class or instance.\n",
    "\n",
    "\n",
    "#4. Behavior\n",
    "#An object's state is defined by the attributes of the object and by the values these have.\n",
    "#In your case, name, age, gender. The term \"behavior\" refers to how objects interact with each other ,\n",
    "#and it is defined by the operations an object can perform.\n"
   ]
  },
  {
   "cell_type": "code",
   "execution_count": 17,
   "metadata": {},
   "outputs": [
    {
     "name": "stdout",
     "output_type": "stream",
     "text": [
      "Brand : Toyota\n",
      "Color : Black\n",
      "Carname : Corrola XLI\n",
      "Model : 2012\n",
      "Seats : 4\n",
      "Carowner : Saad\n",
      "CPLC : Clear!\n"
     ]
    }
   ],
   "source": [
    "#Question 5:\n",
    "#Write a code in python in which create a class named it Car which\n",
    "#have 5 attributes such like (model, color and name etc.) and 3\n",
    "#methods. And create 5 object instance from that class.\n",
    "\n",
    "class Car:\n",
    "    def __init__(self,brand,color,carname,model,seats,carowner,cplc):\n",
    "        self.brand=brand\n",
    "        self.color=color\n",
    "        self.carname=carname\n",
    "        self.model=model\n",
    "        self.seats=seats\n",
    "        self.carowner=carowner\n",
    "        self.cplc=cplc\n",
    "        \n",
    "    def carinfo(self):\n",
    "        print(\"Brand :\", self.brand)\n",
    "        print(\"Color :\",self.color)\n",
    "        print(\"Carname :\",self.carname)\n",
    "        print(\"Model :\",self.model)\n",
    "        print(\"Seats :\",self.seats)\n",
    "        \n",
    "    def carown(self):\n",
    "        print(\"Carowner :\",self.carowner)\n",
    "        \n",
    "    def carstatus(self):\n",
    "        print(\"CPLC :\",self.cplc)\n",
    "        \n",
    "car=Car(\n",
    "\"Toyota\",\n",
    "\"Black\",\n",
    "\"Corrola XLI\",\n",
    "\"2012\",\n",
    "\"4\",\n",
    "\"Saad\",\n",
    "\"Clear!\")\n",
    "\n",
    "car.carinfo()\n",
    "car.carown()\n",
    "car.carstatus()\n",
    "        "
   ]
  },
  {
   "cell_type": "code",
   "execution_count": null,
   "metadata": {},
   "outputs": [],
   "source": []
  }
 ],
 "metadata": {
  "kernelspec": {
   "display_name": "Python 3",
   "language": "python",
   "name": "python3"
  },
  "language_info": {
   "codemirror_mode": {
    "name": "ipython",
    "version": 3
   },
   "file_extension": ".py",
   "mimetype": "text/x-python",
   "name": "python",
   "nbconvert_exporter": "python",
   "pygments_lexer": "ipython3",
   "version": "3.7.4"
  }
 },
 "nbformat": 4,
 "nbformat_minor": 2
}
