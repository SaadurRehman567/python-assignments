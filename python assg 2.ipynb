{
 "cells": [
  {
   "cell_type": "code",
   "execution_count": 2,
   "metadata": {},
   "outputs": [
    {
     "name": "stdout",
     "output_type": "stream",
     "text": [
      "enter marks of physics out of 10077\n",
      "enter marks of maths out of 10077\n",
      "enter marks of chemistry out of 10077\n",
      "enter marks of biology out of 10077\n",
      "enter marks of english out of 10077\n",
      "77.0 %\n",
      "you secure A grade\n"
     ]
    }
   ],
   "source": [
    "#1. Write a program which takes 5 inputs from user for different subject’s marks,\n",
    "#total it and generate mark sheet using grades ? \n",
    "a = int(input('enter marks of physics out of 100'));\n",
    "b = int(input('enter marks of maths out of 100'));\n",
    "c = int(input('enter marks of chemistry out of 100'));\n",
    "d = int(input('enter marks of biology out of 100'));\n",
    "e = int(input('enter marks of english out of 100'));\n",
    "t = ((a+b+c+d+e)/500)*100;\n",
    "print(t,'%')\n",
    "if (t>=80) & (t<100):\n",
    "    print('you secure A+ grade')\n",
    "elif (t>=70) & (t<79):\n",
    "    print('you secure A grade')\n",
    "elif (t>=60) & (t<69):\n",
    "    print('you secure b grade')\n",
    "elif (t>=50) & (t<49):\n",
    "    print('you secure c grade')\n",
    "else :\n",
    "    print('you are fail')\n"
   ]
  },
  {
   "cell_type": "code",
   "execution_count": 3,
   "metadata": {},
   "outputs": [
    {
     "name": "stdout",
     "output_type": "stream",
     "text": [
      "Enter a number: 45\n",
      "45 is Odd number\n"
     ]
    }
   ],
   "source": [
    "#2. Write a program which take input from user and identify that the given number is even or odd? \n",
    "num = int(input(\"Enter a number: \"))\n",
    "if num%2== 0:\n",
    "  print(\"{} is Even number\".format(num))\n",
    "else:\n",
    "  print(\"{} is Odd number\".format(num))"
   ]
  },
  {
   "cell_type": "code",
   "execution_count": 4,
   "metadata": {},
   "outputs": [
    {
     "name": "stdout",
     "output_type": "stream",
     "text": [
      "3\n"
     ]
    }
   ],
   "source": [
    "#3. Write a program which print the length of the list? \n",
    "a=('a','b','s')\n",
    "print(len(a))"
   ]
  },
  {
   "cell_type": "code",
   "execution_count": 5,
   "metadata": {},
   "outputs": [
    {
     "name": "stdout",
     "output_type": "stream",
     "text": [
      "18\n"
     ]
    }
   ],
   "source": [
    "#4. Write a Python program to sum all the numeric items in a list? \n",
    "a=(3,4,5,6)\n",
    "print(sum(a))"
   ]
  },
  {
   "cell_type": "code",
   "execution_count": 6,
   "metadata": {},
   "outputs": [
    {
     "name": "stdout",
     "output_type": "stream",
     "text": [
      "How many numbers: 4\n",
      "Enter number 45\n",
      "Enter number 45\n",
      "Enter number 567\n",
      "Enter number 6\n",
      "Maximum element in the list is : 567\n"
     ]
    }
   ],
   "source": [
    "#5. Write a Python program to get the largest number from a numeric list\n",
    "lst = []\n",
    "num = int(input('How many numbers: '))\n",
    "for n in range(num):\n",
    "    numbers = int(input('Enter number '))\n",
    "    lst.append(numbers)\n",
    "print(\"Maximum element in the list is :\", max(lst))"
   ]
  },
  {
   "cell_type": "code",
   "execution_count": 7,
   "metadata": {},
   "outputs": [
    {
     "name": "stdout",
     "output_type": "stream",
     "text": [
      "1\n",
      "1\n",
      "2\n",
      "3\n"
     ]
    }
   ],
   "source": [
    "#6. Take a list, say for example this one: \n",
    "#a = [1, 1, 2, 3, 5, 8, 13, 21, 34, 55, 89] \n",
    "#and write a program that prints out all the elements of the list that are less than 5. \n",
    "\n",
    "a = [1, 1, 2, 3, 5, 8, 13, 21, 34, 55, 89]\n",
    "\n",
    "for i in a:\n",
    "\n",
    "    if i < 5:\n",
    "\n",
    "        print(i)"
   ]
  },
  {
   "cell_type": "code",
   "execution_count": null,
   "metadata": {},
   "outputs": [],
   "source": []
  }
 ],
 "metadata": {
  "kernelspec": {
   "display_name": "Python 3",
   "language": "python",
   "name": "python3"
  },
  "language_info": {
   "codemirror_mode": {
    "name": "ipython",
    "version": 3
   },
   "file_extension": ".py",
   "mimetype": "text/x-python",
   "name": "python",
   "nbconvert_exporter": "python",
   "pygments_lexer": "ipython3",
   "version": "3.7.4"
  }
 },
 "nbformat": 4,
 "nbformat_minor": 2
}
