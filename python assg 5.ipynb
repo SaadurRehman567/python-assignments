{
 "cells": [
  {
   "cell_type": "code",
   "execution_count": 1,
   "metadata": {},
   "outputs": [
    {
     "name": "stdout",
     "output_type": "stream",
     "text": [
      "362880\n"
     ]
    }
   ],
   "source": [
    "#Question:1 Write a Python function to calculate the factorial of a number (a non-negative integer).\n",
    "#The function accepts the number as an argument. \n",
    "def fact(arg):\n",
    "    fact = 1\n",
    "    for i in range(1,arg+1): \n",
    "        fact = fact * i \n",
    "    print (fact) \n",
    "\n",
    "    \n",
    "fact(9)"
   ]
  },
  {
   "cell_type": "code",
   "execution_count": 2,
   "metadata": {},
   "outputs": [
    {
     "name": "stdout",
     "output_type": "stream",
     "text": [
      "Original String :  My Name Is SAAD\n",
      "No. of Upper case characters :  7\n",
      "No. of Lower case Characters :  5\n"
     ]
    }
   ],
   "source": [
    "#Question:2 Write a Python function that accepts a string and calculate the number of upper case letters\n",
    "#and lower case letters. \n",
    "def func(string):\n",
    "    dic={\"UPPER_CASE\":0, \"LOWER_CASE\":0}\n",
    "    for i in string:\n",
    "        if i.isupper():\n",
    "           dic[\"UPPER_CASE\"]+=1\n",
    "        elif i.islower():\n",
    "           dic[\"LOWER_CASE\"]+=1\n",
    "        else:\n",
    "           pass\n",
    "    print (\"Original String : \", string)\n",
    "    print (\"No. of Upper case characters : \", dic[\"UPPER_CASE\"])\n",
    "    print (\"No. of Lower case Characters : \", dic[\"LOWER_CASE\"])\n",
    "\n",
    "func('My Name Is SAAD')"
   ]
  },
  {
   "cell_type": "code",
   "execution_count": 3,
   "metadata": {},
   "outputs": [
    {
     "name": "stdout",
     "output_type": "stream",
     "text": [
      "[2, 4, 6]\n"
     ]
    }
   ],
   "source": [
    "#Question:3 Write a Python function to print the even numbers from a given list. \n",
    "def evennum(l):\n",
    "    num = []\n",
    "    for n in l:\n",
    "        if n % 2 == 0:\n",
    "            num.append(n)\n",
    "  \n",
    "    print(num)\n",
    "evennum([1, 2, 3, 4, 6, 9])"
   ]
  },
  {
   "cell_type": "code",
   "execution_count": 7,
   "metadata": {},
   "outputs": [
    {
     "data": {
      "text/plain": [
       "True"
      ]
     },
     "execution_count": 7,
     "metadata": {},
     "output_type": "execute_result"
    }
   ],
   "source": [
    "#Question:4 Write a Python function that checks whether a passed string is palindrome or not.\n",
    "#Note: A palindrome is a word, phrase, or sequence that reads the same backward as forward, e.g., madam \n",
    "def isPalindrome(string):\n",
    "    left_pos = 0\n",
    "    right_pos = len(string) - 1\n",
    "    \n",
    "    while right_pos >= left_pos:\n",
    "        if not string[left_pos] == string[right_pos]:\n",
    "            return False\n",
    "        left_pos += 1\n",
    "        right_pos -= 1\n",
    "    return True\n",
    "isPalindrome('madam') "
   ]
  },
  {
   "cell_type": "code",
   "execution_count": 5,
   "metadata": {},
   "outputs": [
    {
     "data": {
      "text/plain": [
       "True"
      ]
     },
     "execution_count": 5,
     "metadata": {},
     "output_type": "execute_result"
    }
   ],
   "source": [
    "#Question:5 Write a Python function that takes a number as a parameter and check the number is prime or not. \n",
    "def test_prime(n):\n",
    "    if (n==1):\n",
    "        return False\n",
    "    elif (n==2):\n",
    "        return True;\n",
    "    else:\n",
    "        for x in range(2,n):\n",
    "            if(n % x==0):\n",
    "                return False\n",
    "        return True             \n",
    "test_prime(3)"
   ]
  },
  {
   "cell_type": "code",
   "execution_count": 6,
   "metadata": {},
   "outputs": [
    {
     "name": "stdout",
     "output_type": "stream",
     "text": [
      "meat\n",
      "vegetables\n",
      "tie\n",
      "shirt\n"
     ]
    }
   ],
   "source": [
    "#Question: 6 Suppose a customer is shopping in a market and you need to print all the items\n",
    "#which user bought from market. Write a function which accepts the multiple arguments of user\n",
    "#shopping list and print all the items which user bought from market.\n",
    "#(Hint: Arbitrary Argument concept can make this task ease) \n",
    "def shopping(*names):\n",
    "   \n",
    "   for name in names:\n",
    "       print(name)\n",
    "\n",
    "shopping(\"meat\",\"vegetables\",\"tie\",\"shirt\")"
   ]
  },
  {
   "cell_type": "code",
   "execution_count": null,
   "metadata": {},
   "outputs": [],
   "source": []
  }
 ],
 "metadata": {
  "kernelspec": {
   "display_name": "Python 3",
   "language": "python",
   "name": "python3"
  },
  "language_info": {
   "codemirror_mode": {
    "name": "ipython",
    "version": 3
   },
   "file_extension": ".py",
   "mimetype": "text/x-python",
   "name": "python",
   "nbconvert_exporter": "python",
   "pygments_lexer": "ipython3",
   "version": "3.7.4"
  }
 },
 "nbformat": 4,
 "nbformat_minor": 2
}
